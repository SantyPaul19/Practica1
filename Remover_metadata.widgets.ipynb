{
 "cells": [
  {
   "cell_type": "code",
   "execution_count": 1,
   "id": "99ee0e39-d1a9-48b1-8ced-d0844d8e4fd7",
   "metadata": {},
   "outputs": [],
   "source": [
    "import nbformat"
   ]
  },
  {
   "cell_type": "code",
   "execution_count": 2,
   "id": "3729c216-c1e0-4878-953b-3b53573e81c2",
   "metadata": {},
   "outputs": [],
   "source": [
    "notebook_path = 'practica_ZS.ipynb'"
   ]
  },
  {
   "cell_type": "code",
   "execution_count": 3,
   "id": "84ffaeaf-e19e-4e12-9257-8a434bda3949",
   "metadata": {},
   "outputs": [],
   "source": [
    "with open(notebook_path, 'r', encoding='utf-8') as f:\n",
    "    notebook_content = nbformat.read(f, as_version=4)"
   ]
  },
  {
   "cell_type": "code",
   "execution_count": 4,
   "id": "db258cb6-42b6-4dd3-b223-d7285b9e4d33",
   "metadata": {},
   "outputs": [],
   "source": [
    "# Eliminar la clave 'widgets' de los metadatos si existe\n",
    "if 'widgets' in notebook_content.metadata:\n",
    "    del notebook_content.metadata['widgets']"
   ]
  },
  {
   "cell_type": "code",
   "execution_count": 5,
   "id": "0274f3d7-be50-401a-bb7e-2a4a1ebfac24",
   "metadata": {},
   "outputs": [],
   "source": [
    "# Escribir el notebook modificado\n",
    "with open(notebook_path, 'w', encoding='utf-8') as f:\n",
    "    nbformat.write(notebook_content, f)"
   ]
  },
  {
   "cell_type": "code",
   "execution_count": 6,
   "id": "ef450b10-935a-4afb-9fec-e0932b811415",
   "metadata": {},
   "outputs": [
    {
     "name": "stdout",
     "output_type": "stream",
     "text": [
      "La sección 'metadata.widgets' ha sido eliminada de 'practica_ZS.ipynb'\n"
     ]
    }
   ],
   "source": [
    "print(f\"La sección 'metadata.widgets' ha sido eliminada de '{notebook_path}'\")"
   ]
  },
  {
   "cell_type": "code",
   "execution_count": null,
   "id": "1e33dd3a-992b-4669-b6ff-00d42d397d10",
   "metadata": {},
   "outputs": [],
   "source": []
  }
 ],
 "metadata": {
  "kernelspec": {
   "display_name": "Python 3 (ipykernel)",
   "language": "python",
   "name": "python3"
  },
  "language_info": {
   "codemirror_mode": {
    "name": "ipython",
    "version": 3
   },
   "file_extension": ".py",
   "mimetype": "text/x-python",
   "name": "python",
   "nbconvert_exporter": "python",
   "pygments_lexer": "ipython3",
   "version": "3.12.10"
  }
 },
 "nbformat": 4,
 "nbformat_minor": 5
}
