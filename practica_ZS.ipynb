{
 "cells": [
  {
   "cell_type": "code",
   "execution_count": null,
   "id": "28f32a63-cfcb-4c4b-83a7-6b76b696badb",
   "metadata": {
    "id": "28f32a63-cfcb-4c4b-83a7-6b76b696badb"
   },
   "outputs": [],
   "source": [
    "import pandas as pd"
   ]
  },
  {
   "cell_type": "code",
   "execution_count": null,
   "id": "a0a8ab14-f9b9-4253-a36b-0f005ced931a",
   "metadata": {
    "id": "a0a8ab14-f9b9-4253-a36b-0f005ced931a"
   },
   "outputs": [],
   "source": [
    "data = pd.read_csv(\"https://github.com/SantyPaul19/Practica1/raw/refs/heads/main/diabetes.csv\", encoding='latin-1')"
   ]
  },
  {
   "cell_type": "code",
   "execution_count": null,
   "id": "0af97480-0f90-4653-93ed-53403faea8b2",
   "metadata": {
    "colab": {
     "base_uri": "https://localhost:8080/",
     "height": 424
    },
    "id": "0af97480-0f90-4653-93ed-53403faea8b2",
    "outputId": "254a81a7-492e-4c60-d5e1-f366dabd86c5"
   },
   "outputs": [],
   "source": [
    "data"
   ]
  },
  {
   "cell_type": "code",
   "execution_count": null,
   "id": "151630d0-2ca3-4ba9-8b65-d5a57e10f754",
   "metadata": {
    "id": "151630d0-2ca3-4ba9-8b65-d5a57e10f754"
   },
   "outputs": [],
   "source": [
    "import random"
   ]
  },
  {
   "cell_type": "code",
   "execution_count": null,
   "id": "c964d896-a10c-4c0a-b4d4-a01b6499ac2b",
   "metadata": {},
   "outputs": [],
   "source": [
    "# Generar provincias al azar\n",
    "def crear_lista_random_de_valores(valores):    \n",
    "    return [random.choice(valores) for _ in range(768)]"
   ]
  },
  {
   "cell_type": "code",
   "execution_count": null,
   "id": "w25J19u54nnQ",
   "metadata": {
    "id": "w25J19u54nnQ"
   },
   "outputs": [],
   "source": [
    "ciudades = [\"Azuay\",\"Bolívar\",\"Cañar\",\"Carchi\", \"Chimborazo\", \"Cotopaxi\", \"El Oro\",\n",
    "            \"Esmeraldas\", \"Galápagos\", \"Guayas\", \"Imbabura\", \"Loja\", \"Los Ríos\", \"Manabí\", \n",
    "            \"Morona Santiago\", \"Napo\", \"Orellana\", \"Pastaza\", \"Pichincha\", \"Santa Elena\", \n",
    "            \"Santo Domingo de los Tsáchilas\", \"Sucumbíos\", \"Tungurahua\", \"Zamora Chinchipe\"]\n",
    "ciudades_random = crear_lista_random_de_valores(ciudades)"
   ]
  },
  {
   "cell_type": "code",
   "execution_count": null,
   "id": "ynawRjUz5FmK",
   "metadata": {
    "id": "ynawRjUz5FmK"
   },
   "outputs": [],
   "source": [
    "data['Provincia'] = ciudades_random"
   ]
  },
  {
   "cell_type": "code",
   "execution_count": null,
   "id": "N4rJcy4g5T6c",
   "metadata": {
    "colab": {
     "base_uri": "https://localhost:8080/",
     "height": 444
    },
    "id": "N4rJcy4g5T6c",
    "outputId": "6aad84d1-aae3-4b47-9ab4-e5e6701ded77"
   },
   "outputs": [],
   "source": [
    "data"
   ]
  },
  {
   "cell_type": "code",
   "execution_count": null,
   "id": "5DWZwP1H5YG6",
   "metadata": {
    "colab": {
     "base_uri": "https://localhost:8080/"
    },
    "id": "5DWZwP1H5YG6",
    "outputId": "b421ed36-7b42-4812-a46d-fb25bb744277"
   },
   "outputs": [],
   "source": [
    "!pip install faker"
   ]
  },
  {
   "cell_type": "code",
   "execution_count": null,
   "id": "n5D9k8Ff5l1T",
   "metadata": {
    "id": "n5D9k8Ff5l1T"
   },
   "outputs": [],
   "source": [
    "from faker import Faker\n",
    "fake = Faker()"
   ]
  },
  {
   "cell_type": "code",
   "execution_count": null,
   "id": "1qFgLVyv5o9U",
   "metadata": {
    "id": "1qFgLVyv5o9U"
   },
   "outputs": [],
   "source": [
    "lista = []"
   ]
  },
  {
   "cell_type": "code",
   "execution_count": null,
   "id": "Tmq_8dxM5qEl",
   "metadata": {
    "id": "Tmq_8dxM5qEl"
   },
   "outputs": [],
   "source": [
    "for _ in range(768):\n",
    "    lista.append({'nombre': fake.name(), 'apellido' : fake.last_name(), 'email' : fake.email()})"
   ]
  },
  {
   "cell_type": "code",
   "execution_count": null,
   "id": "OtLO5GdCB3ny",
   "metadata": {
    "id": "OtLO5GdCB3ny"
   },
   "outputs": [],
   "source": [
    "df = pd.DataFrame(lista)"
   ]
  },
  {
   "cell_type": "code",
   "execution_count": null,
   "id": "bm3xBLilB6iZ",
   "metadata": {
    "colab": {
     "base_uri": "https://localhost:8080/",
     "height": 424
    },
    "id": "bm3xBLilB6iZ",
    "outputId": "7ef3aa60-19ae-400e-a3dc-1dd27486e552"
   },
   "outputs": [],
   "source": [
    "df"
   ]
  },
  {
   "cell_type": "code",
   "execution_count": null,
   "id": "FfEDduvy_gPc",
   "metadata": {
    "id": "FfEDduvy_gPc"
   },
   "outputs": [],
   "source": [
    "df_concatenated = pd.concat([data, df], axis=1)"
   ]
  },
  {
   "cell_type": "code",
   "execution_count": null,
   "id": "iyCV2ZquELZt",
   "metadata": {
    "colab": {
     "base_uri": "https://localhost:8080/",
     "height": 600
    },
    "id": "iyCV2ZquELZt",
    "outputId": "67fb6c62-d8cd-4be3-a2c4-ea4c3aee7288"
   },
   "outputs": [],
   "source": [
    "df_concatenated"
   ]
  },
  {
   "cell_type": "code",
   "execution_count": null,
   "id": "iB8876v4F_RQ",
   "metadata": {
    "id": "iB8876v4F_RQ"
   },
   "outputs": [],
   "source": [
    "import os\n",
    "from pathlib import Path"
   ]
  },
  {
   "cell_type": "code",
   "execution_count": null,
   "id": "UHh4YHSQGG_j",
   "metadata": {
    "id": "UHh4YHSQGG_j"
   },
   "outputs": [],
   "source": [
    "archivo_csv = Path('/content/misdata.csv')"
   ]
  },
  {
   "cell_type": "code",
   "execution_count": null,
   "id": "Oy2vT5eMGYnu",
   "metadata": {
    "colab": {
     "base_uri": "https://localhost:8080/"
    },
    "id": "Oy2vT5eMGYnu",
    "outputId": "f131267b-82d0-4147-9ed8-97fed3f3eea0"
   },
   "outputs": [],
   "source": [
    "if archivo_csv.exists():\n",
    "    print(f\"El archivo CSV '{archivo_csv}' existe.\")\n",
    "    os.remove(archivo_csv)\n",
    "    df_concatenated.to_csv(\"misdata.csv\", index=False)\n",
    "    print(f\"El archivo CSV '{archivo_csv}' se actualizo.\")\n",
    "else:\n",
    "  df_concatenated.to_csv(\"misdata.csv\", index=False)\n",
    "  print(f\"El archivo CSV '{archivo_csv}' no existe.\")"
   ]
  },
  {
   "cell_type": "code",
   "execution_count": null,
   "id": "JRdB2gKYIo7t",
   "metadata": {
    "id": "JRdB2gKYIo7t"
   },
   "outputs": [],
   "source": [
    "data1 = pd.read_csv(\"misdata.csv\")"
   ]
  },
  {
   "cell_type": "code",
   "execution_count": null,
   "id": "5acIu6EVJDtn",
   "metadata": {
    "colab": {
     "base_uri": "https://localhost:8080/"
    },
    "id": "5acIu6EVJDtn",
    "outputId": "9aa98147-d864-4b07-8349-68338908f51d"
   },
   "outputs": [],
   "source": [
    "!pip install pygwalker"
   ]
  },
  {
   "cell_type": "code",
   "execution_count": null,
   "id": "0uOZtJ_MI5Q-",
   "metadata": {
    "id": "0uOZtJ_MI5Q-"
   },
   "outputs": [],
   "source": [
    "import pygwalker as pyg"
   ]
  },
  {
   "cell_type": "code",
   "execution_count": null,
   "id": "wE94ESVcJNio",
   "metadata": {
    "colab": {
     "base_uri": "https://localhost:8080/",
     "height": 1000,
     "referenced_widgets": [
      "2907464513314fc3a8d70a7170316d88",
      "9d82e6b5915b4bfca7965c5f29fa37a1",
      "fac24c91666045e39e3bceae0b1266e8",
      "ddefaff721bc4aaea9bd1f049b6670e8",
      "28523f851ba64486b644ed06ad44af24",
      "f0fe63ef461c40749d54c5fa56d981e2",
      "97853f8f2a1540c0b5a0523a69441251",
      "520a40b4cc7b4bc786ea10c2798b05d2",
      "0663737d1e894356b27694600f9c87fb",
      "41f442bf450144f6b988eb3543cb2724",
      "ef5d4a2c802c4ade81f11e7d97312b10",
      "e10f661303be4d848172f5d8cb591794",
      "a356812bb220479f8c74c407b9ba507b",
      "e90643f8797f440d8209fc680dd3fb58",
      "caa7874bd876493d8333e774fa2e6b39",
      "fcdd40a6819f44c4b9bac2246a34ccf3",
      "136ac13b203c4cfabb842cb46296c57c",
      "7d59f60f47cd4e87b222720478e15a7a",
      "795244f79456430487c5b5025cafcc98",
      "7cd83c34f9704abf87093a89f46a648b",
      "e006b83860d2482fb0ef578789478c2f",
      "e048897846dd4d3793c96c693d9c1f25",
      "a82bf33aa83243c9abdff0d502aec62d",
      "fae766a562c84ec7bb8c1b07ede2e074",
      "daa9a09721c540518b8a90e01f1b48c0"
     ]
    },
    "id": "wE94ESVcJNio",
    "outputId": "1e2683bf-3f3e-44f8-c9ad-c7ee17c2bb17"
   },
   "outputs": [],
   "source": [
    "pyg.walk(data1)"
   ]
  },
  {
   "cell_type": "code",
   "execution_count": null,
   "id": "0d176829-a119-4de3-8e23-c2f15a2b1ae0",
   "metadata": {},
   "outputs": [],
   "source": [
    "pyg.walk(data1)"
   ]
  },
  {
   "cell_type": "code",
   "execution_count": null,
   "id": "11046d5b-19bb-4b24-a75f-66d6ad99a2f0",
   "metadata": {},
   "outputs": [],
   "source": []
  }
 ],
 "metadata": {
  "colab": {
   "provenance": []
  },
  "kernelspec": {
   "display_name": "Python 3 (ipykernel)",
   "language": "python",
   "name": "python3"
  },
  "language_info": {
   "codemirror_mode": {
    "name": "ipython",
    "version": 3
   },
   "file_extension": ".py",
   "mimetype": "text/x-python",
   "name": "python",
   "nbconvert_exporter": "python",
   "pygments_lexer": "ipython3",
   "version": "3.12.10"
  }
 },
 "nbformat": 4,
 "nbformat_minor": 5
}
